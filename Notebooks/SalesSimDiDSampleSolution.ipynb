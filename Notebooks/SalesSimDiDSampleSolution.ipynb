{
  "nbformat": 4,
  "nbformat_minor": 0,
  "metadata": {
    "kernelspec": {
      "display_name": "Python 3",
      "language": "python",
      "name": "python3"
    },
    "language_info": {
      "codemirror_mode": {
        "name": "ipython",
        "version": 3
      },
      "file_extension": ".py",
      "mimetype": "text/x-python",
      "name": "python",
      "nbconvert_exporter": "python",
      "pygments_lexer": "ipython3",
      "version": "3.7.3"
    },
    "colab": {
      "provenance": [],
      "include_colab_link": true
    }
  },
  "cells": [
    {
      "cell_type": "markdown",
      "metadata": {
        "id": "view-in-github",
        "colab_type": "text"
      },
      "source": [
        "<a href=\"https://colab.research.google.com/github/dsliwka/EEMP2024/blob/main/Notebooks/SalesSimDiDSampleSolution.ipynb\" target=\"_parent\"><img src=\"https://colab.research.google.com/assets/colab-badge.svg\" alt=\"Open In Colab\"/></a>"
      ]
    },
    {
      "cell_type": "code",
      "metadata": {
        "id": "1c4_5dQcLb5I"
      },
      "source": [
        "import pandas as pd\n",
        "import numpy as np\n",
        "!pip install pyfixest -q\n",
        "import seaborn as sns\n",
        "import pyfixest as pf"
      ],
      "execution_count": 13,
      "outputs": []
    },
    {
      "cell_type": "markdown",
      "source": [
        "**Generating Simulated Panel Data**\n",
        "\n",
        "----"
      ],
      "metadata": {
        "id": "vvxL31I2JgrO"
      }
    },
    {
      "cell_type": "code",
      "metadata": {
        "id": "AeD6sVPfLb5N"
      },
      "source": [
        "n=500\n",
        "df1=pd.DataFrame(index=range(n))\n",
        "df1['ability']=np.random.normal(100,15,n)\n",
        "df1['year']=1\n",
        "\n",
        "## This is a numer identifying each person in the data set\n",
        "df1['persnr']=df1.index\n",
        "\n",
        "## Determine who will be (later) trained\n",
        "df1['tgroup']=(df1.ability+np.random.normal(0,10,n)>=100)*1\n",
        "\n",
        "## Copy the DataFrame to create second year observations stored in df2\n",
        "df2=df1.copy()\n",
        "df2['year']=2\n",
        "\n",
        "## Training only in the training group and only in year 2:\n",
        "df1['training']=0\n",
        "df2['training']=df2.tgroup\n",
        "\n",
        "## Generate DataFrame that spans both years combining the two:\n",
        "## Note for each person we have two rows, one for each year\n",
        "df=pd.concat([df1,df2], sort=False)\n",
        "\n",
        "## Generate sales as before\n",
        "## but add a year effect: sales increase by 4000 Euro between years 1 and 2:\n",
        "df['sales']= 10000 + df.training*5000 + df.ability*100 + df.year*4000    + np.random.normal(0,4000,2*n)\n"
      ],
      "execution_count": 10,
      "outputs": []
    },
    {
      "cell_type": "markdown",
      "source": [
        "**Looking at the Diff-in-Diff**\n",
        "\n",
        "----"
      ],
      "metadata": {
        "id": "KagEiocfJoX7"
      }
    },
    {
      "cell_type": "code",
      "source": [
        "sns.barplot(x='year', y='sales', hue='tgroup', data=df)"
      ],
      "metadata": {
        "colab": {
          "base_uri": "https://localhost:8080/",
          "height": 467
        },
        "id": "1b_RVFJ98Eod",
        "outputId": "835af1c5-64c9-4749-fa91-b8b1c5fb3040"
      },
      "execution_count": 4,
      "outputs": [
        {
          "output_type": "execute_result",
          "data": {
            "text/plain": [
              "<Axes: xlabel='year', ylabel='sales'>"
            ]
          },
          "metadata": {},
          "execution_count": 4
        },
        {
          "output_type": "display_data",
          "data": {
            "text/plain": [
              "<Figure size 640x480 with 1 Axes>"
            ],
            "image/png": "[encoded data removed]"
          },
          "metadata": {}
        }
      ]
    },
    {
      "cell_type": "code",
      "source": [
        "df.groupby(['tgroup','year']).sales.mean()"
      ],
      "metadata": {
        "colab": {
          "base_uri": "https://localhost:8080/",
          "height": 241
        },
        "id": "JYuQOg61OgVM",
        "outputId": "e55739ab-abbb-41b6-8a62-512ebe50adca"
      },
      "execution_count": 6,
      "outputs": [
        {
          "output_type": "execute_result",
          "data": {
            "text/plain": [
              "tgroup  year\n",
              "0       1       23053.300339\n",
              "        2       27106.166406\n",
              "1       1       25095.931077\n",
              "        2       33986.837108\n",
              "Name: sales, dtype: float64"
            ],
            "text/html": [
              "<div>\n",
              "<style scoped>\n",
              "    .dataframe tbody tr th:only-of-type {\n",
              "        vertical-align: middle;\n",
              "    }\n",
              "\n",
              "    .dataframe tbody tr th {\n",
              "        vertical-align: top;\n",
              "    }\n",
              "\n",
              "    .dataframe thead th {\n",
              "        text-align: right;\n",
              "    }\n",
              "</style>\n",
              "<table border=\"1\" class=\"dataframe\">\n",
              "  <thead>\n",
              "    <tr style=\"text-align: right;\">\n",
              "      <th></th>\n",
              "      <th></th>\n",
              "      <th>sales</th>\n",
              "    </tr>\n",
              "    <tr>\n",
              "      <th>tgroup</th>\n",
              "      <th>year</th>\n",
              "      <th></th>\n",
              "    </tr>\n",
              "  </thead>\n",
              "  <tbody>\n",
              "    <tr>\n",
              "      <th rowspan=\"2\" valign=\"top\">0</th>\n",
              "      <th>1</th>\n",
              "      <td>23053.300339</td>\n",
              "    </tr>\n",
              "    <tr>\n",
              "      <th>2</th>\n",
              "      <td>27106.166406</td>\n",
              "    </tr>\n",
              "    <tr>\n",
              "      <th rowspan=\"2\" valign=\"top\">1</th>\n",
              "      <th>1</th>\n",
              "      <td>25095.931077</td>\n",
              "    </tr>\n",
              "    <tr>\n",
              "      <th>2</th>\n",
              "      <td>33986.837108</td>\n",
              "    </tr>\n",
              "  </tbody>\n",
              "</table>\n",
              "</div><br><label><b>dtype:</b> float64</label>"
            ]
          },
          "metadata": {},
          "execution_count": 6
        }
      ]
    },
    {
      "cell_type": "markdown",
      "source": [
        "**Note:**\n",
        "\n",
        "You can compute the diff-in-diff manually from this table or compute the means in the subgroups as follows (there are many alternative ways to do this in Python)."
      ],
      "metadata": {
        "id": "e8ZEcg7QJv-M"
      }
    },
    {
      "cell_type": "code",
      "source": [
        "r=df.groupby(['year','tgroup']).sales.mean()\n",
        "\n",
        "r.loc[2,1]-r.loc[2,0]-(r.loc[1,1]-r.loc[1,0])"
      ],
      "metadata": {
        "colab": {
          "base_uri": "https://localhost:8080/"
        },
        "id": "U2Lpk4D8PhAL",
        "outputId": "9b7def97-6276-4a03-a5ad-c4dcca9e23cf"
      },
      "execution_count": 11,
      "outputs": [
        {
          "output_type": "execute_result",
          "data": {
            "text/plain": [
              "4510.174381923585"
            ]
          },
          "metadata": {},
          "execution_count": 11
        }
      ]
    },
    {
      "cell_type": "markdown",
      "source": [
        "**Regression Diff-in-Diff**\n",
        "\n",
        "----"
      ],
      "metadata": {
        "id": "AQtEakQqKL5M"
      }
    },
    {
      "cell_type": "code",
      "source": [
        "df[\"post\"]=(df.year==2)*1\n",
        "\n",
        "did=pf.feols(\"sales ~ tgroup * post\", data=df)\n",
        "did2=pf.feols(\"sales ~ tgroup + post + training\", data=df)\n",
        "\n",
        "pf.etable( [did, did2], scientific_notation=False, signif_code=[0.01,0.05,0.1])"
      ],
      "metadata": {
        "colab": {
          "base_uri": "https://localhost:8080/",
          "height": 477
        },
        "id": "fYNhar9_7Ov5",
        "outputId": "19f86619-8ef1-4d69-b2da-ea8fd9ae3c6e"
      },
      "execution_count": 14,
      "outputs": [
        {
          "output_type": "execute_result",
          "data": {
            "text/plain": [
              "GT(_tbl_data=  level_0        level_1                            0  \\\n",
              "0    coef         tgroup   2338.302*** <br> (369.172)   \n",
              "1    coef           post   4163.255*** <br> (373.576)   \n",
              "2    coef    tgroup:post   4510.174*** <br> (522.088)   \n",
              "3    coef       training                                \n",
              "4    coef      Intercept  23161.496*** <br> (264.158)   \n",
              "5   stats   Observations                         1000   \n",
              "6   stats      S.E. type                          iid   \n",
              "7   stats  R<sup>2</sup>                        0.501   \n",
              "\n",
              "                             1  \n",
              "0   2338.302*** <br> (369.172)  \n",
              "1   4163.255*** <br> (373.576)  \n",
              "2                               \n",
              "3   4510.174*** <br> (522.088)  \n",
              "4  23161.496*** <br> (264.158)  \n",
              "5                         1000  \n",
              "6                          iid  \n",
              "7                        0.501  , _body=<great_tables._gt_data.Body object at 0x7bba7fd4c1c0>, _boxhead=Boxhead([ColInfo(var='level_0', type=<ColInfoTypeEnum.row_group: 3>, column_label='level_0', column_align='center', column_width=None), ColInfo(var='level_1', type=<ColInfoTypeEnum.stub: 2>, column_label='level_1', column_align='center', column_width=None), ColInfo(var='0', type=<ColInfoTypeEnum.default: 1>, column_label='(1)', column_align='center', column_width=None), ColInfo(var='1', type=<ColInfoTypeEnum.default: 1>, column_label='(2)', column_align='center', column_width=None)]), _stub=<great_tables._gt_data.Stub object at 0x7bba84117490>, _spanners=Spanners([SpannerInfo(spanner_id='sales', spanner_level=1, spanner_label='sales', spanner_units=None, spanner_pattern=None, vars=['0', '1'], built=None)]), _heading=Heading(title=None, subtitle=None, preheader=None), _stubhead=None, _source_notes=['Significance levels: * p < 0.1, ** p < 0.05, *** p < 0.01. Format of coefficient cell:\\nCoefficient \\n (Std. Error)'], _footnotes=[], _styles=[], _locale=<great_tables._gt_data.Locale object at 0x7bba84117550>, _formats=[], _substitutions=[], _options=Options(table_id=OptionsInfo(scss=False, category='table', type='value', value=None), table_caption=OptionsInfo(scss=False, category='table', type='value', value=None), table_width=OptionsInfo(scss=True, category='table', type='px', value='auto'), table_layout=OptionsInfo(scss=True, category='table', type='value', value='fixed'), table_margin_left=OptionsInfo(scss=True, category='table', type='px', value='auto'), table_margin_right=OptionsInfo(scss=True, category='table', type='px', value='auto'), table_background_color=OptionsInfo(scss=True, category='table', type='value', value='#FFFFFF'), table_additional_css=OptionsInfo(scss=False, category='table', type='values', value=[]), table_font_names=OptionsInfo(scss=False, category='table', type='values', value=['-apple-system', 'BlinkMacSystemFont', 'Segoe UI', 'Roboto', 'Oxygen', 'Ubuntu', 'Cantarell', 'Helvetica Neue', 'Fira Sans', 'Droid Sans', 'Arial', 'sans-serif']), table_font_size=OptionsInfo(scss=True, category='table', type='px', value='16px'), table_font_weight=OptionsInfo(scss=True, category='table', type='value', value='normal'), table_font_style=OptionsInfo(scss=True, category='table', type='value', value='normal'), table_font_color=OptionsInfo(scss=True, category='table', type='value', value='#333333'), table_font_color_light=OptionsInfo(scss=True, category='table', type='value', value='#FFFFFF'), table_border_top_include=OptionsInfo(scss=False, category='table', type='boolean', value=True), table_border_top_style=OptionsInfo(scss=True, category='table', type='value', value='solid'), table_border_top_width=OptionsInfo(scss=True, category='table', type='px', value='2px'), table_border_top_color=OptionsInfo(scss=True, category='table', type='value', value='#A8A8A8'), table_border_right_style=OptionsInfo(scss=True, category='table', type='value', value='none'), table_border_right_width=OptionsInfo(scss=True, category='table', type='px', value='2px'), table_border_right_color=OptionsInfo(scss=True, category='table', type='value', value='#D3D3D3'), table_border_bottom_include=OptionsInfo(scss=False, category='table', type='boolean', value=True), table_border_bottom_style=OptionsInfo(scss=True, category='table', type='value', value='hidden'), table_border_bottom_width=OptionsInfo(scss=True, category='table', type='px', value='2px'), table_border_bottom_color=OptionsInfo(scss=True, category='table', type='value', value='#A8A8A8'), table_border_left_style=OptionsInfo(scss=True, category='table', type='value', value='none'), table_border_left_width=OptionsInfo(scss=True, category='table', type='px', value='2px'), table_border_left_color=OptionsInfo(scss=True, category='table', type='value', value='#D3D3D3'), heading_background_color=OptionsInfo(scss=True, category='heading', type='value', value=None), heading_align=OptionsInfo(scss=True, category='heading', type='value', value='center'), heading_title_font_size=OptionsInfo(scss=True, category='heading', type='px', value='125%'), heading_title_font_weight=OptionsInfo(scss=True, category='heading', type='value', value='initial'), heading_subtitle_font_size=OptionsInfo(scss=True, category='heading', type='px', value='85%'), heading_subtitle_font_weight=OptionsInfo(scss=True, category='heading', type='value', value='initial'), heading_padding=OptionsInfo(scss=True, category='heading', type='px', value='4px'), heading_padding_horizontal=OptionsInfo(scss=True, category='heading', type='px', value='5px'), heading_border_bottom_style=OptionsInfo(scss=True, category='heading', type='value', value='solid'), heading_border_bottom_width=OptionsInfo(scss=True, category='heading', type='px', value='2px'), heading_border_bottom_color=OptionsInfo(scss=True, category='heading', type='value', value='#D3D3D3'), heading_border_lr_style=OptionsInfo(scss=True, category='heading', type='value', value='none'), heading_border_lr_width=OptionsInfo(scss=True, category='heading', type='px', value='1px'), heading_border_lr_color=OptionsInfo(scss=True, category='heading', type='value', value='#D3D3D3'), column_labels_background_color=OptionsInfo(scss=True, category='column_labels', type='value', value=None), column_labels_font_size=OptionsInfo(scss=True, category='column_labels', type='px', value='100%'), column_labels_font_weight=OptionsInfo(scss=True, category='column_labels', type='value', value='normal'), column_labels_text_transform=OptionsInfo(scss=True, category='column_labels', type='value', value='inherit'), column_labels_padding=OptionsInfo(scss=True, category='column_labels', type='px', value='4px'), column_labels_padding_horizontal=OptionsInfo(scss=True, category='column_labels', type='px', value='5px'), column_labels_vlines_style=OptionsInfo(scss=True, category='table_body', type='value', value='none'), column_labels_vlines_width=OptionsInfo(scss=True, category='table_body', type='px', value='0px'), column_labels_vlines_color=OptionsInfo(scss=True, category='table_body', type='value', value='white'), column_labels_border_top_style=OptionsInfo(scss=True, category='column_labels', type='value', value='solid'), column_labels_border_top_width=OptionsInfo(scss=True, category='column_labels', type='px', value='2px'), column_labels_border_top_color=OptionsInfo(scss=True, category='column_labels', type='value', value='black'), column_labels_border_bottom_style=OptionsInfo(scss=True, category='column_labels', type='value', value='solid'), column_labels_border_bottom_width=OptionsInfo(scss=True, category='column_labels', type='px', value='0.5px'), column_labels_border_bottom_color=OptionsInfo(scss=True, category='column_labels', type='value', value='black'), column_labels_border_lr_style=OptionsInfo(scss=True, category='column_labels', type='value', value='none'), column_labels_border_lr_width=OptionsInfo(scss=True, category='column_labels', type='px', value='1px'), column_labels_border_lr_color=OptionsInfo(scss=True, category='column_labels', type='value', value='#D3D3D3'), column_labels_hidden=OptionsInfo(scss=False, category='column_labels', type='boolean', value=False), row_group_background_color=OptionsInfo(scss=True, category='row_group', type='value', value=None), row_group_font_size=OptionsInfo(scss=True, category='row_group', type='px', value='0px'), row_group_font_weight=OptionsInfo(scss=True, category='row_group', type='value', value='initial'), row_group_text_transform=OptionsInfo(scss=True, category='row_group', type='value', value='inherit'), row_group_padding=OptionsInfo(scss=True, category='row_group', type='px', value='0px'), row_group_padding_horizontal=OptionsInfo(scss=True, category='row_group', type='px', value='5px'), row_group_border_top_style=OptionsInfo(scss=True, category='row_group', type='value', value='solid'), row_group_border_top_width=OptionsInfo(scss=True, category='row_group', type='px', value='0.5px'), row_group_border_top_color=OptionsInfo(scss=True, category='row_group', type='value', value='black'), row_group_border_right_style=OptionsInfo(scss=True, category='row_group', type='value', value='none'), row_group_border_right_width=OptionsInfo(scss=True, category='row_group', type='px', value='1px'), row_group_border_right_color=OptionsInfo(scss=True, category='row_group', type='value', value='white'), row_group_border_bottom_style=OptionsInfo(scss=True, category='row_group', type='value', value='solid'), row_group_border_bottom_width=OptionsInfo(scss=True, category='row_group', type='px', value='0.5px'), row_group_border_bottom_color=OptionsInfo(scss=True, category='row_group', type='value', value='black'), row_group_border_left_style=OptionsInfo(scss=True, category='row_group', type='value', value='none'), row_group_border_left_width=OptionsInfo(scss=True, category='row_group', type='px', value='1px'), row_group_border_left_color=OptionsInfo(scss=True, category='row_group', type='value', value='white'), row_group_as_column=OptionsInfo(scss=False, category='row_group', type='boolean', value=False), table_body_hlines_style=OptionsInfo(scss=True, category='table_body', type='value', value='none'), table_body_hlines_width=OptionsInfo(scss=True, category='table_body', type='px', value='1px'), table_body_hlines_color=OptionsInfo(scss=True, category='table_body', type='value', value='#D3D3D3'), table_body_vlines_style=OptionsInfo(scss=True, category='table_body', type='value', value='none'), table_body_vlines_width=OptionsInfo(scss=True, category='table_body', type='px', value='0px'), table_body_vlines_color=OptionsInfo(scss=True, category='table_body', type='value', value='white'), table_body_border_top_style=OptionsInfo(scss=True, category='table_body', type='value', value='solid'), table_body_border_top_width=OptionsInfo(scss=True, category='table_body', type='px', value='0.5px'), table_body_border_top_color=OptionsInfo(scss=True, category='table_body', type='value', value='black'), table_body_border_bottom_style=OptionsInfo(scss=True, category='table_body', type='value', value='solid'), table_body_border_bottom_width=OptionsInfo(scss=True, category='table_body', type='px', value='2px'), table_body_border_bottom_color=OptionsInfo(scss=True, category='table_body', type='value', value='black'), data_row_padding=OptionsInfo(scss=True, category='data_row', type='px', value='4px'), data_row_padding_horizontal=OptionsInfo(scss=True, category='data_row', type='px', value='5px'), stub_background_color=OptionsInfo(scss=True, category='stub', type='value', value=None), stub_font_size=OptionsInfo(scss=True, category='stub', type='px', value='100%'), stub_font_weight=OptionsInfo(scss=True, category='stub', type='value', value='initial'), stub_text_transform=OptionsInfo(scss=True, category='stub', type='value', value='inherit'), stub_border_style=OptionsInfo(scss=True, category='stub', type='value', value='hidden'), stub_border_width=OptionsInfo(scss=True, category='stub', type='px', value='2px'), stub_border_color=OptionsInfo(scss=True, category='stub', type='value', value='#D3D3D3'), stub_row_group_background_color=OptionsInfo(scss=True, category='stub', type='value', value=None), stub_row_group_font_size=OptionsInfo(scss=True, category='stub', type='px', value='100%'), stub_row_group_font_weight=OptionsInfo(scss=True, category='stub', type='value', value='initial'), stub_row_group_text_transform=OptionsInfo(scss=True, category='stub', type='value', value='inherit'), stub_row_group_border_style=OptionsInfo(scss=True, category='stub', type='value', value='solid'), stub_row_group_border_width=OptionsInfo(scss=True, category='stub', type='px', value='2px'), stub_row_group_border_color=OptionsInfo(scss=True, category='stub', type='value', value='#D3D3D3'), source_notes_padding=OptionsInfo(scss=True, category='source_notes', type='px', value='4px'), source_notes_padding_horizontal=OptionsInfo(scss=True, category='source_notes', type='px', value='5px'), source_notes_background_color=OptionsInfo(scss=True, category='source_notes', type='value', value=None), source_notes_font_size=OptionsInfo(scss=True, category='source_notes', type='px', value='90%'), source_notes_border_bottom_style=OptionsInfo(scss=True, category='source_notes', type='value', value='none'), source_notes_border_bottom_width=OptionsInfo(scss=True, category='source_notes', type='px', value='2px'), source_notes_border_bottom_color=OptionsInfo(scss=True, category='source_notes', type='value', value='#D3D3D3'), source_notes_border_lr_style=OptionsInfo(scss=True, category='source_notes', type='value', value='none'), source_notes_border_lr_width=OptionsInfo(scss=True, category='source_notes', type='px', value='2px'), source_notes_border_lr_color=OptionsInfo(scss=True, category='source_notes', type='value', value='#D3D3D3'), source_notes_multiline=OptionsInfo(scss=False, category='source_notes', type='boolean', value=True), source_notes_sep=OptionsInfo(scss=False, category='source_notes', type='value', value=' '), row_striping_background_color=OptionsInfo(scss=True, category='row', type='value', value='rgba(128,128,128,0.05)'), row_striping_include_stub=OptionsInfo(scss=False, category='row', type='boolean', value=False), row_striping_include_table_body=OptionsInfo(scss=False, category='row', type='boolean', value=False), container_width=OptionsInfo(scss=False, category='container', type='px', value='auto'), container_height=OptionsInfo(scss=False, category='container', type='px', value='auto'), container_padding_x=OptionsInfo(scss=False, category='container', type='px', value='0px'), container_padding_y=OptionsInfo(scss=False, category='container', type='px', value='10px'), container_overflow_x=OptionsInfo(scss=False, category='container', type='overflow', value='auto'), container_overflow_y=OptionsInfo(scss=False, category='container', type='overflow', value='auto'), quarto_disable_processing=OptionsInfo(scss=False, category='quarto', type='logical', value=False), quarto_use_bootstrap=OptionsInfo(scss=False, category='quarto', type='logical', value=False)), _has_built=False)"
            ],
            "text/html": [
              "<div id=\"tsowawgwtd\" style=\"padding-left:0px;padding-right:0px;padding-top:10px;padding-bottom:10px;overflow-x:auto;overflow-y:auto;width:auto;height:auto;\">\n",
              "<style>\n",
              "#tsowawgwtd table {\n",
              "          font-family: -apple-system, BlinkMacSystemFont, 'Segoe UI', Roboto, Oxygen, Ubuntu, Cantarell, 'Helvetica Neue', 'Fira Sans', 'Droid Sans', Arial, sans-serif;\n",
              "          -webkit-font-smoothing: antialiased;\n",
              "          -moz-osx-font-smoothing: grayscale;\n",
              "        }\n",
              "\n",
              "#tsowawgwtd thead, tbody, tfoot, tr, td, th { border-style: none; }\n",
              " tr { background-color: transparent; }\n",
              "#tsowawgwtd p { margin: 0; padding: 0; }\n",
              " #tsowawgwtd .gt_table { display: table; border-collapse: collapse; line-height: normal; margin-left: auto; margin-right: auto; color: #333333; font-size: 16px; font-weight: normal; font-style: normal; background-color: #FFFFFF; width: auto; border-top-style: solid; border-top-width: 2px; border-top-color: #A8A8A8; border-right-style: none; border-right-width: 2px; border-right-color: #D3D3D3; border-bottom-style: hidden; border-bottom-width: 2px; border-bottom-color: #A8A8A8; border-left-style: none; border-left-width: 2px; border-left-color: #D3D3D3; }\n",
              " #tsowawgwtd .gt_caption { padding-top: 4px; padding-bottom: 4px; }\n",
              " #tsowawgwtd .gt_title { color: #333333; font-size: 125%; font-weight: initial; padding-top: 4px; padding-bottom: 4px; padding-left: 5px; padding-right: 5px; border-bottom-color: #FFFFFF; border-bottom-width: 0; }\n",
              " #tsowawgwtd .gt_subtitle { color: #333333; font-size: 85%; font-weight: initial; padding-top: 3px; padding-bottom: 5px; padding-left: 5px; padding-right: 5px; border-top-color: #FFFFFF; border-top-width: 0; }\n",
              " #tsowawgwtd .gt_heading { background-color: #FFFFFF; text-align: center; border-bottom-color: #FFFFFF; border-left-style: none; border-left-width: 1px; border-left-color: #D3D3D3; border-right-style: none; border-right-width: 1px; border-right-color: #D3D3D3; }\n",
              " #tsowawgwtd .gt_bottom_border { border-bottom-style: solid; border-bottom-width: 2px; border-bottom-color: #D3D3D3; }\n",
              " #tsowawgwtd .gt_col_headings { border-top-style: solid; border-top-width: 2px; border-top-color: black; border-bottom-style: solid; border-bottom-width: 0.5px; border-bottom-color: black; border-left-style: none; border-left-width: 1px; border-left-color: #D3D3D3; border-right-style: none; border-right-width: 1px; border-right-color: #D3D3D3; }\n",
              " #tsowawgwtd .gt_col_heading { color: #333333; background-color: #FFFFFF; font-size: 100%; font-weight: normal; text-transform: inherit; border-left-style: none; border-left-width: 0px; border-left-color: white; border-right-style: none; border-right-width: 0px; border-right-color: white; vertical-align: bottom; padding-top: 4px; padding-bottom: 5px; padding-left: 5px; padding-right: 5px; overflow-x: hidden; }\n",
              " #tsowawgwtd .gt_column_spanner_outer { color: #333333; background-color: #FFFFFF; font-size: 100%; font-weight: normal; text-transform: inherit; padding-top: 0; padding-bottom: 0; padding-left: 4px; padding-right: 4px; }\n",
              " #tsowawgwtd .gt_column_spanner_outer:first-child { padding-left: 0; }\n",
              " #tsowawgwtd .gt_column_spanner_outer:last-child { padding-right: 0; }\n",
              " #tsowawgwtd .gt_column_spanner { border-bottom-style: solid; border-bottom-width: 0.5px; border-bottom-color: black; vertical-align: bottom; padding-top: 4px; padding-bottom: 4px; overflow-x: hidden; display: inline-block; width: 100%; }\n",
              " #tsowawgwtd .gt_spanner_row { border-bottom-style: hidden; }\n",
              " #tsowawgwtd .gt_group_heading { padding-top: 0px; padding-bottom: 0px; padding-left: 5px; padding-right: 5px; color: #333333; background-color: #FFFFFF; font-size: 0px; font-weight: initial; text-transform: inherit; border-top-style: solid; border-top-width: 0.5px; border-top-color: black; border-bottom-style: solid; border-bottom-width: 0.5px; border-bottom-color: black; border-left-style: none; border-left-width: 1px; border-left-color: white; border-right-style: none; border-right-width: 1px; border-right-color: white; vertical-align: middle; text-align: left; }\n",
              " #tsowawgwtd .gt_empty_group_heading { padding: 0.5px; color: #333333; background-color: #FFFFFF; font-size: 0px; font-weight: initial; border-top-style: solid; border-top-width: 0.5px; border-top-color: black; border-bottom-style: solid; border-bottom-width: 0.5px; border-bottom-color: black; vertical-align: middle; }\n",
              " #tsowawgwtd .gt_from_md> :first-child { margin-top: 0; }\n",
              " #tsowawgwtd .gt_from_md> :last-child { margin-bottom: 0; }\n",
              " #tsowawgwtd .gt_row { padding-top: 4px; padding-bottom: 4px; padding-left: 5px; padding-right: 5px; margin: 10px; border-top-style: none; border-top-width: 1px; border-top-color: #D3D3D3; border-left-style: none; border-left-width: 0px; border-left-color: white; border-right-style: none; border-right-width: 0px; border-right-color: white; vertical-align: middle; overflow-x: hidden; }\n",
              " #tsowawgwtd .gt_stub { color: #333333; background-color: #FFFFFF; font-size: 100%; font-weight: initial; text-transform: inherit; border-right-style: hidden; border-right-width: 2px; border-right-color: #D3D3D3; padding-left: 5px; padding-right: 5px; }\n",
              " #tsowawgwtd .gt_stub_row_group { color: #333333; background-color: #FFFFFF; font-size: 100%; font-weight: initial; text-transform: inherit; border-right-style: solid; border-right-width: 2px; border-right-color: #D3D3D3; padding-left: 5px; padding-right: 5px; vertical-align: top; }\n",
              " #tsowawgwtd .gt_row_group_first td { border-top-width: 0.5px; }\n",
              " #tsowawgwtd .gt_row_group_first th { border-top-width: 0.5px; }\n",
              " #tsowawgwtd .gt_striped { background-color: rgba(128,128,128,0.05); }\n",
              " #tsowawgwtd .gt_table_body { border-top-style: solid; border-top-width: 0.5px; border-top-color: black; border-bottom-style: solid; border-bottom-width: 2px; border-bottom-color: black; }\n",
              " #tsowawgwtd .gt_sourcenotes { color: #333333; background-color: #FFFFFF; border-bottom-style: none; border-bottom-width: 2px; border-bottom-color: #D3D3D3; border-left-style: none; border-left-width: 2px; border-left-color: #D3D3D3; border-right-style: none; border-right-width: 2px; border-right-color: #D3D3D3; }\n",
              " #tsowawgwtd .gt_sourcenote { font-size: 90%; padding-top: 4px; padding-bottom: 4px; padding-left: 5px; padding-right: 5px; text-align: left; }\n",
              " #tsowawgwtd .gt_left { text-align: left; }\n",
              " #tsowawgwtd .gt_center { text-align: center; }\n",
              " #tsowawgwtd .gt_right { text-align: right; font-variant-numeric: tabular-nums; }\n",
              " #tsowawgwtd .gt_font_normal { font-weight: normal; }\n",
              " #tsowawgwtd .gt_font_bold { font-weight: bold; }\n",
              " #tsowawgwtd .gt_font_italic { font-style: italic; }\n",
              " #tsowawgwtd .gt_super { font-size: 65%; }\n",
              " #tsowawgwtd .gt_footnote_marks { font-size: 75%; vertical-align: 0.4em; position: initial; }\n",
              " #tsowawgwtd .gt_asterisk { font-size: 100%; vertical-align: 0; }\n",
              " \n",
              "</style>\n",
              "<table class=\"gt_table\" data-quarto-disable-processing=\"false\" data-quarto-bootstrap=\"false\">\n",
              "<thead>\n",
              "\n",
              "<tr class=\"gt_col_headings gt_spanner_row\">\n",
              "  <th class=\"gt_col_heading gt_columns_bottom_border gt_left\" rowspan=\"2\" colspan=\"1\" scope=\"col\" id=\"\"></th>\n",
              "  <th class=\"gt_center gt_columns_top_border gt_column_spanner_outer\" rowspan=\"1\" colspan=\"2\" scope=\"colgroup\" id=\"sales\">\n",
              "    <span class=\"gt_column_spanner\">sales</span>\n",
              "  </th>\n",
              "</tr>\n",
              "<tr class=\"gt_col_headings\">\n",
              "  <th class=\"gt_col_heading gt_columns_bottom_border gt_center\" rowspan=\"1\" colspan=\"1\" scope=\"col\" id=\"(1)\">(1)</th>\n",
              "  <th class=\"gt_col_heading gt_columns_bottom_border gt_center\" rowspan=\"1\" colspan=\"1\" scope=\"col\" id=\"(2)\">(2)</th>\n",
              "</tr>\n",
              "</thead>\n",
              "<tbody class=\"gt_table_body\">\n",
              "  <tr class=\"gt_group_heading_row\">\n",
              "    <th class=\"gt_group_heading\" colspan=\"3\">coef</th>\n",
              "  </tr>\n",
              "  <tr>\n",
              "    <th class=\"gt_row gt_left gt_stub\">tgroup</th>\n",
              "    <td class=\"gt_row gt_center\">2338.302*** <br> (369.172)</td>\n",
              "    <td class=\"gt_row gt_center\">2338.302*** <br> (369.172)</td>\n",
              "  </tr>\n",
              "  <tr>\n",
              "    <th class=\"gt_row gt_left gt_stub\">post</th>\n",
              "    <td class=\"gt_row gt_center\">4163.255*** <br> (373.576)</td>\n",
              "    <td class=\"gt_row gt_center\">4163.255*** <br> (373.576)</td>\n",
              "  </tr>\n",
              "  <tr>\n",
              "    <th class=\"gt_row gt_left gt_stub\">tgroup:post</th>\n",
              "    <td class=\"gt_row gt_center\">4510.174*** <br> (522.088)</td>\n",
              "    <td class=\"gt_row gt_center\"></td>\n",
              "  </tr>\n",
              "  <tr>\n",
              "    <th class=\"gt_row gt_left gt_stub\">training</th>\n",
              "    <td class=\"gt_row gt_center\"></td>\n",
              "    <td class=\"gt_row gt_center\">4510.174*** <br> (522.088)</td>\n",
              "  </tr>\n",
              "  <tr>\n",
              "    <th class=\"gt_row gt_left gt_stub\">Intercept</th>\n",
              "    <td class=\"gt_row gt_center\">23161.496*** <br> (264.158)</td>\n",
              "    <td class=\"gt_row gt_center\">23161.496*** <br> (264.158)</td>\n",
              "  </tr>\n",
              "  <tr class=\"gt_group_heading_row\">\n",
              "    <th class=\"gt_group_heading\" colspan=\"3\">stats</th>\n",
              "  </tr>\n",
              "  <tr>\n",
              "    <th class=\"gt_row gt_left gt_stub\">Observations</th>\n",
              "    <td class=\"gt_row gt_center\">1000</td>\n",
              "    <td class=\"gt_row gt_center\">1000</td>\n",
              "  </tr>\n",
              "  <tr>\n",
              "    <th class=\"gt_row gt_left gt_stub\">S.E. type</th>\n",
              "    <td class=\"gt_row gt_center\">iid</td>\n",
              "    <td class=\"gt_row gt_center\">iid</td>\n",
              "  </tr>\n",
              "  <tr>\n",
              "    <th class=\"gt_row gt_left gt_stub\">R<sup>2</sup></th>\n",
              "    <td class=\"gt_row gt_center\">0.501</td>\n",
              "    <td class=\"gt_row gt_center\">0.501</td>\n",
              "  </tr>\n",
              "</tbody>\n",
              "  <tfoot class=\"gt_sourcenotes\">\n",
              "  \n",
              "  <tr>\n",
              "    <td class=\"gt_sourcenote\" colspan=\"3\">Significance levels: * p &lt; 0.1, ** p &lt; 0.05, *** p &lt; 0.01. Format of coefficient cell:\n",
              "Coefficient \n",
              " (Std. Error)</td>\n",
              "  </tr>\n",
              "\n",
              "</tfoot>\n",
              "\n",
              "</table>\n",
              "\n",
              "</div>\n",
              "        "
            ]
          },
          "metadata": {},
          "execution_count": 14
        }
      ]
    },
    {
      "cell_type": "markdown",
      "source": [
        "**Interpretation**\n",
        "\n",
        "Here we estimate the Diff-in-Diff trough a regression where troup estimates the difference in levels in year 1, post estimates the time trend (the increase in sales in the \"control group\" where tgroup=0) and the interaction term estimates the difference in the change over time between the \"treatment group\" and the \"control group\". (The purpose of column (2) is just to show you that the training dummy is identical to the interaction term tgroup:post).\n",
        "\n",
        "We thus get the same estimate for the causal effect as in our \"manual\" analysis above, but conveniently, we here also get an estimate of the standard error."
      ],
      "metadata": {
        "id": "pM7GnDCwKXD8"
      }
    },
    {
      "cell_type": "code",
      "source": [],
      "metadata": {
        "id": "N9zoOEvCKWyz"
      },
      "execution_count": null,
      "outputs": []
    },
    {
      "cell_type": "markdown",
      "source": [
        "**Estimating a Fixed Effects Model**\n",
        "\n",
        "----"
      ],
      "metadata": {
        "id": "JkHvbRmILJZT"
      }
    },
    {
      "cell_type": "markdown",
      "source": [
        "We can easily estimate a fixed effects model with pyfixest. Just add the variables for which you want fixed effects to be estimated after a \"|\" in the regression formula. As there are only two periods, you can also directly control for the time trend by adding the post dummy as a control variable."
      ],
      "metadata": {
        "id": "fCKep1vpLPnC"
      }
    },
    {
      "cell_type": "code",
      "metadata": {
        "id": "zhPky3SmLb5R",
        "colab": {
          "base_uri": "https://localhost:8080/",
          "height": 516
        },
        "outputId": "d7805183-b133-49c1-d55f-058842e5a9b1"
      },
      "source": [
        "fe1=pf.feols(\"sales ~ training | persnr + post\", data=df, vcov={\"CRV1\": \"persnr\"})\n",
        "fe2=pf.feols(\"sales ~ training + post | persnr\", data=df, vcov={\"CRV1\": \"persnr\"})\n",
        "\n",
        "pf.etable([did2,fe1,fe2], scientific_notation=False, model_heads=[\"DiD\", \"FE\", \"FE\"])"
      ],
      "execution_count": 25,
      "outputs": [
        {
          "output_type": "execute_result",
          "data": {
            "text/plain": [
              "GT(_tbl_data=  level_0        level_1                            0  \\\n",
              "0    coef       training   4510.174*** <br> (522.088)   \n",
              "1    coef         tgroup   2338.302*** <br> (369.172)   \n",
              "2    coef           post   4163.255*** <br> (373.576)   \n",
              "3    coef      Intercept  23161.496*** <br> (264.158)   \n",
              "4      fe         persnr                            -   \n",
              "5      fe           post                            -   \n",
              "6   stats   Observations                         1000   \n",
              "7   stats      S.E. type                          iid   \n",
              "8   stats  R<sup>2</sup>                        0.501   \n",
              "\n",
              "                            1                           2  \n",
              "0  4510.174*** <br> (512.384)  4510.174*** <br> (512.640)  \n",
              "1                                                          \n",
              "2                              4163.255*** <br> (349.045)  \n",
              "3                                                          \n",
              "4                           x                           x  \n",
              "5                           x                           -  \n",
              "6                        1000                        1000  \n",
              "7                  by: persnr                  by: persnr  \n",
              "8                       0.758                       0.758  , _body=<great_tables._gt_data.Body object at 0x7bba7dff2110>, _boxhead=Boxhead([ColInfo(var='level_0', type=<ColInfoTypeEnum.row_group: 3>, column_label='level_0', column_align='center', column_width=None), ColInfo(var='level_1', type=<ColInfoTypeEnum.stub: 2>, column_label='level_1', column_align='center', column_width=None), ColInfo(var='0', type=<ColInfoTypeEnum.default: 1>, column_label='(1)', column_align='center', column_width=None), ColInfo(var='1', type=<ColInfoTypeEnum.default: 1>, column_label='(2)', column_align='center', column_width=None), ColInfo(var='2', type=<ColInfoTypeEnum.default: 1>, column_label='(3)', column_align='center', column_width=None)]), _stub=<great_tables._gt_data.Stub object at 0x7bba7dff3130>, _spanners=Spanners([SpannerInfo(spanner_id='sales', spanner_level=2, spanner_label='sales', spanner_units=None, spanner_pattern=None, vars=['0', '1', '2'], built=None), SpannerInfo(spanner_id='DiD', spanner_level=1, spanner_label='DiD', spanner_units=None, spanner_pattern=None, vars=['0'], built=None), SpannerInfo(spanner_id='FE', spanner_level=1, spanner_label='FE', spanner_units=None, spanner_pattern=None, vars=['1', '2'], built=None)]), _heading=Heading(title=None, subtitle=None, preheader=None), _stubhead=None, _source_notes=['Significance levels: * p < 0.05, ** p < 0.01, *** p < 0.001. Format of coefficient cell:\\nCoefficient \\n (Std. Error)'], _footnotes=[], _styles=[], _locale=<great_tables._gt_data.Locale object at 0x7bba7dff1de0>, _formats=[], _substitutions=[], _options=Options(table_id=OptionsInfo(scss=False, category='table', type='value', value=None), table_caption=OptionsInfo(scss=False, category='table', type='value', value=None), table_width=OptionsInfo(scss=True, category='table', type='px', value='auto'), table_layout=OptionsInfo(scss=True, category='table', type='value', value='fixed'), table_margin_left=OptionsInfo(scss=True, category='table', type='px', value='auto'), table_margin_right=OptionsInfo(scss=True, category='table', type='px', value='auto'), table_background_color=OptionsInfo(scss=True, category='table', type='value', value='#FFFFFF'), table_additional_css=OptionsInfo(scss=False, category='table', type='values', value=[]), table_font_names=OptionsInfo(scss=False, category='table', type='values', value=['-apple-system', 'BlinkMacSystemFont', 'Segoe UI', 'Roboto', 'Oxygen', 'Ubuntu', 'Cantarell', 'Helvetica Neue', 'Fira Sans', 'Droid Sans', 'Arial', 'sans-serif']), table_font_size=OptionsInfo(scss=True, category='table', type='px', value='16px'), table_font_weight=OptionsInfo(scss=True, category='table', type='value', value='normal'), table_font_style=OptionsInfo(scss=True, category='table', type='value', value='normal'), table_font_color=OptionsInfo(scss=True, category='table', type='value', value='#333333'), table_font_color_light=OptionsInfo(scss=True, category='table', type='value', value='#FFFFFF'), table_border_top_include=OptionsInfo(scss=False, category='table', type='boolean', value=True), table_border_top_style=OptionsInfo(scss=True, category='table', type='value', value='solid'), table_border_top_width=OptionsInfo(scss=True, category='table', type='px', value='2px'), table_border_top_color=OptionsInfo(scss=True, category='table', type='value', value='#A8A8A8'), table_border_right_style=OptionsInfo(scss=True, category='table', type='value', value='none'), table_border_right_width=OptionsInfo(scss=True, category='table', type='px', value='2px'), table_border_right_color=OptionsInfo(scss=True, category='table', type='value', value='#D3D3D3'), table_border_bottom_include=OptionsInfo(scss=False, category='table', type='boolean', value=True), table_border_bottom_style=OptionsInfo(scss=True, category='table', type='value', value='hidden'), table_border_bottom_width=OptionsInfo(scss=True, category='table', type='px', value='2px'), table_border_bottom_color=OptionsInfo(scss=True, category='table', type='value', value='#A8A8A8'), table_border_left_style=OptionsInfo(scss=True, category='table', type='value', value='none'), table_border_left_width=OptionsInfo(scss=True, category='table', type='px', value='2px'), table_border_left_color=OptionsInfo(scss=True, category='table', type='value', value='#D3D3D3'), heading_background_color=OptionsInfo(scss=True, category='heading', type='value', value=None), heading_align=OptionsInfo(scss=True, category='heading', type='value', value='center'), heading_title_font_size=OptionsInfo(scss=True, category='heading', type='px', value='125%'), heading_title_font_weight=OptionsInfo(scss=True, category='heading', type='value', value='initial'), heading_subtitle_font_size=OptionsInfo(scss=True, category='heading', type='px', value='85%'), heading_subtitle_font_weight=OptionsInfo(scss=True, category='heading', type='value', value='initial'), heading_padding=OptionsInfo(scss=True, category='heading', type='px', value='4px'), heading_padding_horizontal=OptionsInfo(scss=True, category='heading', type='px', value='5px'), heading_border_bottom_style=OptionsInfo(scss=True, category='heading', type='value', value='solid'), heading_border_bottom_width=OptionsInfo(scss=True, category='heading', type='px', value='2px'), heading_border_bottom_color=OptionsInfo(scss=True, category='heading', type='value', value='#D3D3D3'), heading_border_lr_style=OptionsInfo(scss=True, category='heading', type='value', value='none'), heading_border_lr_width=OptionsInfo(scss=True, category='heading', type='px', value='1px'), heading_border_lr_color=OptionsInfo(scss=True, category='heading', type='value', value='#D3D3D3'), column_labels_background_color=OptionsInfo(scss=True, category='column_labels', type='value', value=None), column_labels_font_size=OptionsInfo(scss=True, category='column_labels', type='px', value='100%'), column_labels_font_weight=OptionsInfo(scss=True, category='column_labels', type='value', value='normal'), column_labels_text_transform=OptionsInfo(scss=True, category='column_labels', type='value', value='inherit'), column_labels_padding=OptionsInfo(scss=True, category='column_labels', type='px', value='4px'), column_labels_padding_horizontal=OptionsInfo(scss=True, category='column_labels', type='px', value='5px'), column_labels_vlines_style=OptionsInfo(scss=True, category='table_body', type='value', value='none'), column_labels_vlines_width=OptionsInfo(scss=True, category='table_body', type='px', value='0px'), column_labels_vlines_color=OptionsInfo(scss=True, category='table_body', type='value', value='white'), column_labels_border_top_style=OptionsInfo(scss=True, category='column_labels', type='value', value='solid'), column_labels_border_top_width=OptionsInfo(scss=True, category='column_labels', type='px', value='2px'), column_labels_border_top_color=OptionsInfo(scss=True, category='column_labels', type='value', value='black'), column_labels_border_bottom_style=OptionsInfo(scss=True, category='column_labels', type='value', value='solid'), column_labels_border_bottom_width=OptionsInfo(scss=True, category='column_labels', type='px', value='0.5px'), column_labels_border_bottom_color=OptionsInfo(scss=True, category='column_labels', type='value', value='black'), column_labels_border_lr_style=OptionsInfo(scss=True, category='column_labels', type='value', value='none'), column_labels_border_lr_width=OptionsInfo(scss=True, category='column_labels', type='px', value='1px'), column_labels_border_lr_color=OptionsInfo(scss=True, category='column_labels', type='value', value='#D3D3D3'), column_labels_hidden=OptionsInfo(scss=False, category='column_labels', type='boolean', value=False), row_group_background_color=OptionsInfo(scss=True, category='row_group', type='value', value=None), row_group_font_size=OptionsInfo(scss=True, category='row_group', type='px', value='0px'), row_group_font_weight=OptionsInfo(scss=True, category='row_group', type='value', value='initial'), row_group_text_transform=OptionsInfo(scss=True, category='row_group', type='value', value='inherit'), row_group_padding=OptionsInfo(scss=True, category='row_group', type='px', value='0px'), row_group_padding_horizontal=OptionsInfo(scss=True, category='row_group', type='px', value='5px'), row_group_border_top_style=OptionsInfo(scss=True, category='row_group', type='value', value='solid'), row_group_border_top_width=OptionsInfo(scss=True, category='row_group', type='px', value='0.5px'), row_group_border_top_color=OptionsInfo(scss=True, category='row_group', type='value', value='black'), row_group_border_right_style=OptionsInfo(scss=True, category='row_group', type='value', value='none'), row_group_border_right_width=OptionsInfo(scss=True, category='row_group', type='px', value='1px'), row_group_border_right_color=OptionsInfo(scss=True, category='row_group', type='value', value='white'), row_group_border_bottom_style=OptionsInfo(scss=True, category='row_group', type='value', value='solid'), row_group_border_bottom_width=OptionsInfo(scss=True, category='row_group', type='px', value='0.5px'), row_group_border_bottom_color=OptionsInfo(scss=True, category='row_group', type='value', value='black'), row_group_border_left_style=OptionsInfo(scss=True, category='row_group', type='value', value='none'), row_group_border_left_width=OptionsInfo(scss=True, category='row_group', type='px', value='1px'), row_group_border_left_color=OptionsInfo(scss=True, category='row_group', type='value', value='white'), row_group_as_column=OptionsInfo(scss=False, category='row_group', type='boolean', value=False), table_body_hlines_style=OptionsInfo(scss=True, category='table_body', type='value', value='none'), table_body_hlines_width=OptionsInfo(scss=True, category='table_body', type='px', value='1px'), table_body_hlines_color=OptionsInfo(scss=True, category='table_body', type='value', value='#D3D3D3'), table_body_vlines_style=OptionsInfo(scss=True, category='table_body', type='value', value='none'), table_body_vlines_width=OptionsInfo(scss=True, category='table_body', type='px', value='0px'), table_body_vlines_color=OptionsInfo(scss=True, category='table_body', type='value', value='white'), table_body_border_top_style=OptionsInfo(scss=True, category='table_body', type='value', value='solid'), table_body_border_top_width=OptionsInfo(scss=True, category='table_body', type='px', value='0.5px'), table_body_border_top_color=OptionsInfo(scss=True, category='table_body', type='value', value='black'), table_body_border_bottom_style=OptionsInfo(scss=True, category='table_body', type='value', value='solid'), table_body_border_bottom_width=OptionsInfo(scss=True, category='table_body', type='px', value='2px'), table_body_border_bottom_color=OptionsInfo(scss=True, category='table_body', type='value', value='black'), data_row_padding=OptionsInfo(scss=True, category='data_row', type='px', value='4px'), data_row_padding_horizontal=OptionsInfo(scss=True, category='data_row', type='px', value='5px'), stub_background_color=OptionsInfo(scss=True, category='stub', type='value', value=None), stub_font_size=OptionsInfo(scss=True, category='stub', type='px', value='100%'), stub_font_weight=OptionsInfo(scss=True, category='stub', type='value', value='initial'), stub_text_transform=OptionsInfo(scss=True, category='stub', type='value', value='inherit'), stub_border_style=OptionsInfo(scss=True, category='stub', type='value', value='hidden'), stub_border_width=OptionsInfo(scss=True, category='stub', type='px', value='2px'), stub_border_color=OptionsInfo(scss=True, category='stub', type='value', value='#D3D3D3'), stub_row_group_background_color=OptionsInfo(scss=True, category='stub', type='value', value=None), stub_row_group_font_size=OptionsInfo(scss=True, category='stub', type='px', value='100%'), stub_row_group_font_weight=OptionsInfo(scss=True, category='stub', type='value', value='initial'), stub_row_group_text_transform=OptionsInfo(scss=True, category='stub', type='value', value='inherit'), stub_row_group_border_style=OptionsInfo(scss=True, category='stub', type='value', value='solid'), stub_row_group_border_width=OptionsInfo(scss=True, category='stub', type='px', value='2px'), stub_row_group_border_color=OptionsInfo(scss=True, category='stub', type='value', value='#D3D3D3'), source_notes_padding=OptionsInfo(scss=True, category='source_notes', type='px', value='4px'), source_notes_padding_horizontal=OptionsInfo(scss=True, category='source_notes', type='px', value='5px'), source_notes_background_color=OptionsInfo(scss=True, category='source_notes', type='value', value=None), source_notes_font_size=OptionsInfo(scss=True, category='source_notes', type='px', value='90%'), source_notes_border_bottom_style=OptionsInfo(scss=True, category='source_notes', type='value', value='none'), source_notes_border_bottom_width=OptionsInfo(scss=True, category='source_notes', type='px', value='2px'), source_notes_border_bottom_color=OptionsInfo(scss=True, category='source_notes', type='value', value='#D3D3D3'), source_notes_border_lr_style=OptionsInfo(scss=True, category='source_notes', type='value', value='none'), source_notes_border_lr_width=OptionsInfo(scss=True, category='source_notes', type='px', value='2px'), source_notes_border_lr_color=OptionsInfo(scss=True, category='source_notes', type='value', value='#D3D3D3'), source_notes_multiline=OptionsInfo(scss=False, category='source_notes', type='boolean', value=True), source_notes_sep=OptionsInfo(scss=False, category='source_notes', type='value', value=' '), row_striping_background_color=OptionsInfo(scss=True, category='row', type='value', value='rgba(128,128,128,0.05)'), row_striping_include_stub=OptionsInfo(scss=False, category='row', type='boolean', value=False), row_striping_include_table_body=OptionsInfo(scss=False, category='row', type='boolean', value=False), container_width=OptionsInfo(scss=False, category='container', type='px', value='auto'), container_height=OptionsInfo(scss=False, category='container', type='px', value='auto'), container_padding_x=OptionsInfo(scss=False, category='container', type='px', value='0px'), container_padding_y=OptionsInfo(scss=False, category='container', type='px', value='10px'), container_overflow_x=OptionsInfo(scss=False, category='container', type='overflow', value='auto'), container_overflow_y=OptionsInfo(scss=False, category='container', type='overflow', value='auto'), quarto_disable_processing=OptionsInfo(scss=False, category='quarto', type='logical', value=False), quarto_use_bootstrap=OptionsInfo(scss=False, category='quarto', type='logical', value=False)), _has_built=False)"
            ],
            "text/html": [
              "<div id=\"iogfedlcoz\" style=\"padding-left:0px;padding-right:0px;padding-top:10px;padding-bottom:10px;overflow-x:auto;overflow-y:auto;width:auto;height:auto;\">\n",
              "<style>\n",
              "#iogfedlcoz table {\n",
              "          font-family: -apple-system, BlinkMacSystemFont, 'Segoe UI', Roboto, Oxygen, Ubuntu, Cantarell, 'Helvetica Neue', 'Fira Sans', 'Droid Sans', Arial, sans-serif;\n",
              "          -webkit-font-smoothing: antialiased;\n",
              "          -moz-osx-font-smoothing: grayscale;\n",
              "        }\n",
              "\n",
              "#iogfedlcoz thead, tbody, tfoot, tr, td, th { border-style: none; }\n",
              " tr { background-color: transparent; }\n",
              "#iogfedlcoz p { margin: 0; padding: 0; }\n",
              " #iogfedlcoz .gt_table { display: table; border-collapse: collapse; line-height: normal; margin-left: auto; margin-right: auto; color: #333333; font-size: 16px; font-weight: normal; font-style: normal; background-color: #FFFFFF; width: auto; border-top-style: solid; border-top-width: 2px; border-top-color: #A8A8A8; border-right-style: none; border-right-width: 2px; border-right-color: #D3D3D3; border-bottom-style: hidden; border-bottom-width: 2px; border-bottom-color: #A8A8A8; border-left-style: none; border-left-width: 2px; border-left-color: #D3D3D3; }\n",
              " #iogfedlcoz .gt_caption { padding-top: 4px; padding-bottom: 4px; }\n",
              " #iogfedlcoz .gt_title { color: #333333; font-size: 125%; font-weight: initial; padding-top: 4px; padding-bottom: 4px; padding-left: 5px; padding-right: 5px; border-bottom-color: #FFFFFF; border-bottom-width: 0; }\n",
              " #iogfedlcoz .gt_subtitle { color: #333333; font-size: 85%; font-weight: initial; padding-top: 3px; padding-bottom: 5px; padding-left: 5px; padding-right: 5px; border-top-color: #FFFFFF; border-top-width: 0; }\n",
              " #iogfedlcoz .gt_heading { background-color: #FFFFFF; text-align: center; border-bottom-color: #FFFFFF; border-left-style: none; border-left-width: 1px; border-left-color: #D3D3D3; border-right-style: none; border-right-width: 1px; border-right-color: #D3D3D3; }\n",
              " #iogfedlcoz .gt_bottom_border { border-bottom-style: solid; border-bottom-width: 2px; border-bottom-color: #D3D3D3; }\n",
              " #iogfedlcoz .gt_col_headings { border-top-style: solid; border-top-width: 2px; border-top-color: black; border-bottom-style: solid; border-bottom-width: 0.5px; border-bottom-color: black; border-left-style: none; border-left-width: 1px; border-left-color: #D3D3D3; border-right-style: none; border-right-width: 1px; border-right-color: #D3D3D3; }\n",
              " #iogfedlcoz .gt_col_heading { color: #333333; background-color: #FFFFFF; font-size: 100%; font-weight: normal; text-transform: inherit; border-left-style: none; border-left-width: 0px; border-left-color: white; border-right-style: none; border-right-width: 0px; border-right-color: white; vertical-align: bottom; padding-top: 4px; padding-bottom: 5px; padding-left: 5px; padding-right: 5px; overflow-x: hidden; }\n",
              " #iogfedlcoz .gt_column_spanner_outer { color: #333333; background-color: #FFFFFF; font-size: 100%; font-weight: normal; text-transform: inherit; padding-top: 0; padding-bottom: 0; padding-left: 4px; padding-right: 4px; }\n",
              " #iogfedlcoz .gt_column_spanner_outer:first-child { padding-left: 0; }\n",
              " #iogfedlcoz .gt_column_spanner_outer:last-child { padding-right: 0; }\n",
              " #iogfedlcoz .gt_column_spanner { border-bottom-style: solid; border-bottom-width: 0.5px; border-bottom-color: black; vertical-align: bottom; padding-top: 4px; padding-bottom: 4px; overflow-x: hidden; display: inline-block; width: 100%; }\n",
              " #iogfedlcoz .gt_spanner_row { border-bottom-style: hidden; }\n",
              " #iogfedlcoz .gt_group_heading { padding-top: 0px; padding-bottom: 0px; padding-left: 5px; padding-right: 5px; color: #333333; background-color: #FFFFFF; font-size: 0px; font-weight: initial; text-transform: inherit; border-top-style: solid; border-top-width: 0.5px; border-top-color: black; border-bottom-style: solid; border-bottom-width: 0.5px; border-bottom-color: black; border-left-style: none; border-left-width: 1px; border-left-color: white; border-right-style: none; border-right-width: 1px; border-right-color: white; vertical-align: middle; text-align: left; }\n",
              " #iogfedlcoz .gt_empty_group_heading { padding: 0.5px; color: #333333; background-color: #FFFFFF; font-size: 0px; font-weight: initial; border-top-style: solid; border-top-width: 0.5px; border-top-color: black; border-bottom-style: solid; border-bottom-width: 0.5px; border-bottom-color: black; vertical-align: middle; }\n",
              " #iogfedlcoz .gt_from_md> :first-child { margin-top: 0; }\n",
              " #iogfedlcoz .gt_from_md> :last-child { margin-bottom: 0; }\n",
              " #iogfedlcoz .gt_row { padding-top: 4px; padding-bottom: 4px; padding-left: 5px; padding-right: 5px; margin: 10px; border-top-style: none; border-top-width: 1px; border-top-color: #D3D3D3; border-left-style: none; border-left-width: 0px; border-left-color: white; border-right-style: none; border-right-width: 0px; border-right-color: white; vertical-align: middle; overflow-x: hidden; }\n",
              " #iogfedlcoz .gt_stub { color: #333333; background-color: #FFFFFF; font-size: 100%; font-weight: initial; text-transform: inherit; border-right-style: hidden; border-right-width: 2px; border-right-color: #D3D3D3; padding-left: 5px; padding-right: 5px; }\n",
              " #iogfedlcoz .gt_stub_row_group { color: #333333; background-color: #FFFFFF; font-size: 100%; font-weight: initial; text-transform: inherit; border-right-style: solid; border-right-width: 2px; border-right-color: #D3D3D3; padding-left: 5px; padding-right: 5px; vertical-align: top; }\n",
              " #iogfedlcoz .gt_row_group_first td { border-top-width: 0.5px; }\n",
              " #iogfedlcoz .gt_row_group_first th { border-top-width: 0.5px; }\n",
              " #iogfedlcoz .gt_striped { background-color: rgba(128,128,128,0.05); }\n",
              " #iogfedlcoz .gt_table_body { border-top-style: solid; border-top-width: 0.5px; border-top-color: black; border-bottom-style: solid; border-bottom-width: 2px; border-bottom-color: black; }\n",
              " #iogfedlcoz .gt_sourcenotes { color: #333333; background-color: #FFFFFF; border-bottom-style: none; border-bottom-width: 2px; border-bottom-color: #D3D3D3; border-left-style: none; border-left-width: 2px; border-left-color: #D3D3D3; border-right-style: none; border-right-width: 2px; border-right-color: #D3D3D3; }\n",
              " #iogfedlcoz .gt_sourcenote { font-size: 90%; padding-top: 4px; padding-bottom: 4px; padding-left: 5px; padding-right: 5px; text-align: left; }\n",
              " #iogfedlcoz .gt_left { text-align: left; }\n",
              " #iogfedlcoz .gt_center { text-align: center; }\n",
              " #iogfedlcoz .gt_right { text-align: right; font-variant-numeric: tabular-nums; }\n",
              " #iogfedlcoz .gt_font_normal { font-weight: normal; }\n",
              " #iogfedlcoz .gt_font_bold { font-weight: bold; }\n",
              " #iogfedlcoz .gt_font_italic { font-style: italic; }\n",
              " #iogfedlcoz .gt_super { font-size: 65%; }\n",
              " #iogfedlcoz .gt_footnote_marks { font-size: 75%; vertical-align: 0.4em; position: initial; }\n",
              " #iogfedlcoz .gt_asterisk { font-size: 100%; vertical-align: 0; }\n",
              " \n",
              "</style>\n",
              "<table class=\"gt_table\" data-quarto-disable-processing=\"false\" data-quarto-bootstrap=\"false\">\n",
              "<thead>\n",
              "\n",
              "<tr class=\"gt_col_headings gt_spanner_row\">\n",
              "  <th class=\"gt_col_heading gt_columns_bottom_border gt_left\" rowspan=\"1\" colspan=\"1\" scope=\"col\">\n",
              "    <span>&nbsp</span>\n",
              "  </th>\n",
              "  <th class=\"gt_center gt_columns_bottom_border gt_columns_top_border gt_column_spanner_outer\" rowspan=\"1\" colspan=\"3\" scope=\"colgroup\">\n",
              "    <span class=\"gt_column_spanner\">sales</span>\n",
              "  </th>\n",
              "</tr>\n",
              "<tr class=\"gt_col_headings gt_spanner_row\">\n",
              "  <th class=\"gt_col_heading gt_columns_bottom_border gt_left\" rowspan=\"2\" colspan=\"1\" scope=\"col\" id=\"\"></th>\n",
              "  <th class=\"gt_center gt_columns_top_border gt_column_spanner_outer\" rowspan=\"1\" colspan=\"1\" scope=\"col\" id=\"DiD\">\n",
              "    <span class=\"gt_column_spanner\">DiD</span>\n",
              "  </th>\n",
              "  <th class=\"gt_center gt_columns_top_border gt_column_spanner_outer\" rowspan=\"1\" colspan=\"2\" scope=\"colgroup\" id=\"FE\">\n",
              "    <span class=\"gt_column_spanner\">FE</span>\n",
              "  </th>\n",
              "</tr>\n",
              "<tr class=\"gt_col_headings\">\n",
              "  <th class=\"gt_col_heading gt_columns_bottom_border gt_center\" rowspan=\"1\" colspan=\"1\" scope=\"col\" id=\"(1)\">(1)</th>\n",
              "  <th class=\"gt_col_heading gt_columns_bottom_border gt_center\" rowspan=\"1\" colspan=\"1\" scope=\"col\" id=\"(2)\">(2)</th>\n",
              "  <th class=\"gt_col_heading gt_columns_bottom_border gt_center\" rowspan=\"1\" colspan=\"1\" scope=\"col\" id=\"(3)\">(3)</th>\n",
              "</tr>\n",
              "</thead>\n",
              "<tbody class=\"gt_table_body\">\n",
              "  <tr class=\"gt_group_heading_row\">\n",
              "    <th class=\"gt_group_heading\" colspan=\"4\">coef</th>\n",
              "  </tr>\n",
              "  <tr>\n",
              "    <th class=\"gt_row gt_left gt_stub\">training</th>\n",
              "    <td class=\"gt_row gt_center\">4510.174*** <br> (522.088)</td>\n",
              "    <td class=\"gt_row gt_center\">4510.174*** <br> (512.384)</td>\n",
              "    <td class=\"gt_row gt_center\">4510.174*** <br> (512.640)</td>\n",
              "  </tr>\n",
              "  <tr>\n",
              "    <th class=\"gt_row gt_left gt_stub\">tgroup</th>\n",
              "    <td class=\"gt_row gt_center\">2338.302*** <br> (369.172)</td>\n",
              "    <td class=\"gt_row gt_center\"></td>\n",
              "    <td class=\"gt_row gt_center\"></td>\n",
              "  </tr>\n",
              "  <tr>\n",
              "    <th class=\"gt_row gt_left gt_stub\">post</th>\n",
              "    <td class=\"gt_row gt_center\">4163.255*** <br> (373.576)</td>\n",
              "    <td class=\"gt_row gt_center\"></td>\n",
              "    <td class=\"gt_row gt_center\">4163.255*** <br> (349.045)</td>\n",
              "  </tr>\n",
              "  <tr>\n",
              "    <th class=\"gt_row gt_left gt_stub\">Intercept</th>\n",
              "    <td class=\"gt_row gt_center\">23161.496*** <br> (264.158)</td>\n",
              "    <td class=\"gt_row gt_center\"></td>\n",
              "    <td class=\"gt_row gt_center\"></td>\n",
              "  </tr>\n",
              "  <tr class=\"gt_group_heading_row\">\n",
              "    <th class=\"gt_group_heading\" colspan=\"4\">fe</th>\n",
              "  </tr>\n",
              "  <tr>\n",
              "    <th class=\"gt_row gt_left gt_stub\">persnr</th>\n",
              "    <td class=\"gt_row gt_center\">-</td>\n",
              "    <td class=\"gt_row gt_center\">x</td>\n",
              "    <td class=\"gt_row gt_center\">x</td>\n",
              "  </tr>\n",
              "  <tr>\n",
              "    <th class=\"gt_row gt_left gt_stub\">post</th>\n",
              "    <td class=\"gt_row gt_center\">-</td>\n",
              "    <td class=\"gt_row gt_center\">x</td>\n",
              "    <td class=\"gt_row gt_center\">-</td>\n",
              "  </tr>\n",
              "  <tr class=\"gt_group_heading_row\">\n",
              "    <th class=\"gt_group_heading\" colspan=\"4\">stats</th>\n",
              "  </tr>\n",
              "  <tr>\n",
              "    <th class=\"gt_row gt_left gt_stub\">Observations</th>\n",
              "    <td class=\"gt_row gt_center\">1000</td>\n",
              "    <td class=\"gt_row gt_center\">1000</td>\n",
              "    <td class=\"gt_row gt_center\">1000</td>\n",
              "  </tr>\n",
              "  <tr>\n",
              "    <th class=\"gt_row gt_left gt_stub\">S.E. type</th>\n",
              "    <td class=\"gt_row gt_center\">iid</td>\n",
              "    <td class=\"gt_row gt_center\">by: persnr</td>\n",
              "    <td class=\"gt_row gt_center\">by: persnr</td>\n",
              "  </tr>\n",
              "  <tr>\n",
              "    <th class=\"gt_row gt_left gt_stub\">R<sup>2</sup></th>\n",
              "    <td class=\"gt_row gt_center\">0.501</td>\n",
              "    <td class=\"gt_row gt_center\">0.758</td>\n",
              "    <td class=\"gt_row gt_center\">0.758</td>\n",
              "  </tr>\n",
              "</tbody>\n",
              "  <tfoot class=\"gt_sourcenotes\">\n",
              "  \n",
              "  <tr>\n",
              "    <td class=\"gt_sourcenote\" colspan=\"4\">Significance levels: * p &lt; 0.05, ** p &lt; 0.01, *** p &lt; 0.001. Format of coefficient cell:\n",
              "Coefficient \n",
              " (Std. Error)</td>\n",
              "  </tr>\n",
              "\n",
              "</tfoot>\n",
              "\n",
              "</table>\n",
              "\n",
              "</div>\n",
              "        "
            ]
          },
          "metadata": {},
          "execution_count": 25
        }
      ]
    },
    {
      "cell_type": "markdown",
      "source": [
        "Note that the DiD and the FE model here lead to exactly the same estimate for the coefficient. The fixed effects estimate comes with (slightly) smaller standard errors."
      ],
      "metadata": {
        "id": "9e0LsY2xJ8wl"
      }
    }
  ]
}