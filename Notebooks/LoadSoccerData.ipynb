{
  "nbformat": 4,
  "nbformat_minor": 0,
  "metadata": {
    "colab": {
      "provenance": []
    },
    "kernelspec": {
      "name": "python3",
      "display_name": "Python 3"
    },
    "language_info": {
      "name": "python"
    }
  },
  "cells": [
    {
      "cell_type": "code",
      "execution_count": 1,
      "metadata": {
        "colab": {
          "base_uri": "https://localhost:8080/"
        },
        "id": "7zMZdzJoA-na",
        "outputId": "39592cb3-c7f7-4612-9d47-ecbae13b966a"
      },
      "outputs": [
        {
          "output_type": "stream",
          "name": "stdout",
          "text": [
            "Requirement already satisfied: pyfixest in /usr/local/lib/python3.10/dist-packages (0.25.2)\n",
            "Requirement already satisfied: formulaic>=1.0.0 in /usr/local/lib/python3.10/dist-packages (from pyfixest) (1.0.2)\n",
            "Requirement already satisfied: great-tables>=0.10.0 in /usr/local/lib/python3.10/dist-packages (from pyfixest) (0.13.0)\n",
            "Requirement already satisfied: jinja2<4,>=3.1.4 in /usr/local/lib/python3.10/dist-packages (from pyfixest) (3.1.4)\n",
            "Requirement already satisfied: lets-plot>=4.0.0 in /usr/local/lib/python3.10/dist-packages (from pyfixest) (4.5.1)\n",
            "Requirement already satisfied: numba>=0.58.0 in /usr/local/lib/python3.10/dist-packages (from pyfixest) (0.60.0)\n",
            "Requirement already satisfied: numpy>=1.19.0 in /usr/local/lib/python3.10/dist-packages (from pyfixest) (1.26.4)\n",
            "Requirement already satisfied: pandas>=1.1.0 in /usr/local/lib/python3.10/dist-packages (from pyfixest) (2.2.2)\n",
            "Requirement already satisfied: polars>=0.20.1 in /usr/local/lib/python3.10/dist-packages (from pyfixest) (1.7.1)\n",
            "Requirement already satisfied: scipy>=1.6 in /usr/local/lib/python3.10/dist-packages (from pyfixest) (1.13.1)\n",
            "Requirement already satisfied: seaborn>=0.13.2 in /usr/local/lib/python3.10/dist-packages (from pyfixest) (0.13.2)\n",
            "Requirement already satisfied: tabulate>=0.9.0 in /usr/local/lib/python3.10/dist-packages (from pyfixest) (0.9.0)\n",
            "Requirement already satisfied: tqdm==4.66.4 in /usr/local/lib/python3.10/dist-packages (from pyfixest) (4.66.4)\n",
            "Requirement already satisfied: interface-meta>=1.2.0 in /usr/local/lib/python3.10/dist-packages (from formulaic>=1.0.0->pyfixest) (1.3.0)\n",
            "Requirement already satisfied: typing-extensions>=4.2.0 in /usr/local/lib/python3.10/dist-packages (from formulaic>=1.0.0->pyfixest) (4.12.2)\n",
            "Requirement already satisfied: wrapt>=1.0 in /usr/local/lib/python3.10/dist-packages (from formulaic>=1.0.0->pyfixest) (1.16.0)\n",
            "Requirement already satisfied: commonmark>=0.9.1 in /usr/local/lib/python3.10/dist-packages (from great-tables>=0.10.0->pyfixest) (0.9.1)\n",
            "Requirement already satisfied: htmltools>=0.4.1 in /usr/local/lib/python3.10/dist-packages (from great-tables>=0.10.0->pyfixest) (0.5.3)\n",
            "Requirement already satisfied: importlib-metadata in /usr/local/lib/python3.10/dist-packages (from great-tables>=0.10.0->pyfixest) (8.5.0)\n",
            "Requirement already satisfied: Babel>=2.13.1 in /usr/local/lib/python3.10/dist-packages (from great-tables>=0.10.0->pyfixest) (2.16.0)\n",
            "Requirement already satisfied: importlib-resources in /usr/local/lib/python3.10/dist-packages (from great-tables>=0.10.0->pyfixest) (6.4.5)\n",
            "Requirement already satisfied: MarkupSafe>=2.0 in /usr/local/lib/python3.10/dist-packages (from jinja2<4,>=3.1.4->pyfixest) (3.0.2)\n",
            "Requirement already satisfied: pypng in /usr/local/lib/python3.10/dist-packages (from lets-plot>=4.0.0->pyfixest) (0.20220715.0)\n",
            "Requirement already satisfied: palettable in /usr/local/lib/python3.10/dist-packages (from lets-plot>=4.0.0->pyfixest) (3.3.3)\n",
            "Requirement already satisfied: llvmlite<0.44,>=0.43.0dev0 in /usr/local/lib/python3.10/dist-packages (from numba>=0.58.0->pyfixest) (0.43.0)\n",
            "Requirement already satisfied: python-dateutil>=2.8.2 in /usr/local/lib/python3.10/dist-packages (from pandas>=1.1.0->pyfixest) (2.8.2)\n",
            "Requirement already satisfied: pytz>=2020.1 in /usr/local/lib/python3.10/dist-packages (from pandas>=1.1.0->pyfixest) (2024.2)\n",
            "Requirement already satisfied: tzdata>=2022.7 in /usr/local/lib/python3.10/dist-packages (from pandas>=1.1.0->pyfixest) (2024.2)\n",
            "Requirement already satisfied: matplotlib!=3.6.1,>=3.4 in /usr/local/lib/python3.10/dist-packages (from seaborn>=0.13.2->pyfixest) (3.7.1)\n",
            "Requirement already satisfied: packaging>=20.9 in /usr/local/lib/python3.10/dist-packages (from htmltools>=0.4.1->great-tables>=0.10.0->pyfixest) (24.1)\n",
            "Requirement already satisfied: contourpy>=1.0.1 in /usr/local/lib/python3.10/dist-packages (from matplotlib!=3.6.1,>=3.4->seaborn>=0.13.2->pyfixest) (1.3.0)\n",
            "Requirement already satisfied: cycler>=0.10 in /usr/local/lib/python3.10/dist-packages (from matplotlib!=3.6.1,>=3.4->seaborn>=0.13.2->pyfixest) (0.12.1)\n",
            "Requirement already satisfied: fonttools>=4.22.0 in /usr/local/lib/python3.10/dist-packages (from matplotlib!=3.6.1,>=3.4->seaborn>=0.13.2->pyfixest) (4.54.1)\n",
            "Requirement already satisfied: kiwisolver>=1.0.1 in /usr/local/lib/python3.10/dist-packages (from matplotlib!=3.6.1,>=3.4->seaborn>=0.13.2->pyfixest) (1.4.7)\n",
            "Requirement already satisfied: pillow>=6.2.0 in /usr/local/lib/python3.10/dist-packages (from matplotlib!=3.6.1,>=3.4->seaborn>=0.13.2->pyfixest) (10.4.0)\n",
            "Requirement already satisfied: pyparsing>=2.3.1 in /usr/local/lib/python3.10/dist-packages (from matplotlib!=3.6.1,>=3.4->seaborn>=0.13.2->pyfixest) (3.2.0)\n",
            "Requirement already satisfied: six>=1.5 in /usr/local/lib/python3.10/dist-packages (from python-dateutil>=2.8.2->pandas>=1.1.0->pyfixest) (1.16.0)\n",
            "Requirement already satisfied: zipp>=3.20 in /usr/local/lib/python3.10/dist-packages (from importlib-metadata->great-tables>=0.10.0->pyfixest) (3.20.2)\n",
            "Downloading from https://www.kaggle.com/api/v1/datasets/download/codytipton/player-stats-per-game-understat?dataset_version_number=1...\n"
          ]
        },
        {
          "output_type": "stream",
          "name": "stderr",
          "text": [
            "100%|██████████| 81.0M/81.0M [00:05<00:00, 16.2MB/s]"
          ]
        },
        {
          "output_type": "stream",
          "name": "stdout",
          "text": [
            "Extracting files...\n"
          ]
        },
        {
          "output_type": "stream",
          "name": "stderr",
          "text": [
            "\n"
          ]
        },
        {
          "output_type": "stream",
          "name": "stdout",
          "text": [
            "Path to dataset files: /root/.cache/kagglehub/datasets/codytipton/player-stats-per-game-understat/versions/1\n"
          ]
        }
      ],
      "source": [
        "import kagglehub\n",
        "import os\n",
        "import pandas as pd\n",
        "! pip install pyfixest -q\n",
        "import pyfixest as pf\n",
        "import numpy as np\n",
        "import seaborn as sns\n",
        "import matplotlib.pyplot as plt\n",
        "\n",
        "\n",
        "# Download latest version\n",
        "path = kagglehub.dataset_download(\"codytipton/player-stats-per-game-understat\")\n",
        "\n",
        "print(\"Path to dataset files:\", path)"
      ]
    },
    {
      "cell_type": "code",
      "source": [
        "for file in os.listdir(path):\n",
        "    print(file)\n"
      ],
      "metadata": {
        "colab": {
          "base_uri": "https://localhost:8080/"
        },
        "id": "QYYCgPqEBBw_",
        "outputId": "6a2b496e-5d37-4f01-e14a-8f4936b44fd0"
      },
      "execution_count": 2,
      "outputs": [
        {
          "output_type": "stream",
          "name": "stdout",
          "text": [
            "clubs.csv\n",
            "general_game_stats.csv\n",
            "game_events.csv\n",
            "understat_lineup_game_stats.db\n",
            "lineup_stats.csv\n"
          ]
        }
      ]
    },
    {
      "cell_type": "code",
      "source": [
        "# Read data sets\n",
        "# clubs.csv\n",
        "# game_events.csv\n",
        "# general_game_stats.csv\n",
        "# lineup_stats.csv\n",
        "df_clubs = pd.read_csv(path + \"/clubs.csv\")\n",
        "df_game_events = pd.read_csv(path + \"/game_events.csv\")\n",
        "df_general_game_stats = pd.read_csv(path + \"/general_game_stats.csv\")\n",
        "df_lineup_stats = pd.read_csv(path + \"/lineup_stats.csv\")\n",
        "\n"
      ],
      "metadata": {
        "id": "fmnd0rkfBLb1"
      },
      "execution_count": 3,
      "outputs": []
    }
  ]
}