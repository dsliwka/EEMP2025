{
  "nbformat": 4,
  "nbformat_minor": 0,
  "metadata": {
    "colab": {
      "provenance": [],
      "authorship_tag": "ABX9TyNNbUZwUG4oq33GR/EOtSjR",
      "include_colab_link": true
    },
    "kernelspec": {
      "name": "python3",
      "display_name": "Python 3"
    },
    "language_info": {
      "name": "python"
    }
  },
  "cells": [
    {
      "cell_type": "markdown",
      "metadata": {
        "id": "view-in-github",
        "colab_type": "text"
      },
      "source": [
        "<a href=\"https://colab.research.google.com/github/dsliwka/EEMP2024/blob/main/Notebooks/LPPEngaDataCleaning.ipynb\" target=\"_parent\"><img src=\"https://colab.research.google.com/assets/colab-badge.svg\" alt=\"Open In Colab\"/></a>"
      ]
    },
    {
      "cell_type": "markdown",
      "source": [],
      "metadata": {
        "id": "O2VJTVhdaQF_"
      }
    },
    {
      "cell_type": "code",
      "source": [
        "import pandas as pd\n",
        "import numpy as np\n",
        "from scipy import stats\n",
        "\n",
        "\n",
        "## Read LPP Data\n",
        "path_to_data = \"https://raw.githubusercontent.com/dsliwka/EEMP2024/main/Data/LPP-CF_1215_v1.csv\"\n",
        "df = pd.read_csv(path_to_data)\n",
        "\n",
        "\n",
        "## Keep only wave 2 (as here the LPP campus file has more information)\n",
        "dfp=df[df.welle==2]\n",
        "\n",
        "## Generate Engagement Scale\n",
        "dfp=dfp.assign(enga=6-df.filter(regex=\"menga*\").mean(axis=1))\n",
        "\n",
        "## reverse health scale (as lower numbers represent better health in the survey)\n",
        "dfp[\"mgesund_allg\"]=6-dfp.mgesund_allg\n",
        "\n",
        "## keep only rows where we have non-missing data on income, industry & engagement\n",
        "dfp=dfp[dfp.meink_kateg.isnull()==False]\n",
        "dfp=dfp[dfp.branche.isnull()==False]\n",
        "dfp=dfp[dfp.enga.isnull()==False]\n",
        "\n",
        "## Generate Big5 traits from items\n",
        "dfp['conscientiousness']= (6-dfp.mbig_gruend +dfp.mbig_faul     + 6-dfp.mbig_effi)/3\n",
        "dfp['extraversion']=      (6-dfp.mbig_komm   +dfp.mbig_zur      + 6-dfp.mbig_gesell)/3\n",
        "dfp['neuroticism']=       (6-dfp.mbig_sorgen +dfp.mbig_entsp    + 6-dfp.mbig_nervoes)/3\n",
        "dfp['openness']=          (6-dfp.mbig_origi\t+6-dfp.mbig_kunst  + 6-dfp.mbig_phant  + 6-dfp.mbig_wissb)/4\n",
        "dfp['agreeableness']=     (dfp.mbig_grob\t    +6-dfp.mbig_verzeih+ 6-dfp.mbig_freundl)/3\n",
        "\n",
        "## drop all rows in which either of the big5 traits are missing\n",
        "dfp=dfp.dropna(subset=['conscientiousness', 'extraversion', 'neuroticism', 'openness', 'agreeableness'])\n",
        "\n",
        "## Standardize all personality traits & engagement (i.e. substract the mean and divide by SD)\n",
        "## Note: for simplicity we here use a function from package scipy\n",
        "dfp['conscientiousness'] = stats.zscore(dfp.conscientiousness)\n",
        "dfp['extraversion'] = stats.zscore(dfp.extraversion)\n",
        "dfp['neuroticism'] = stats.zscore(dfp.neuroticism)\n",
        "dfp['openness'] = stats.zscore(dfp.openness)\n",
        "dfp['agreeableness'] = stats.zscore(dfp.agreeableness)\n",
        "dfp['enga'] = stats.zscore(dfp.enga)\n",
        "\n",
        "## drop all columns with missing data:\n",
        "dfp = dfp.dropna(axis=1)\n",
        "\n",
        "## keep only subset of the variables\n",
        "dfp=dfp[['enga','branche', 'ost', 'size',\n",
        "       'bauswahl_interview', 'bauswahl_ac', 'bauswahl_kognit', 'bauswahl_pers',\n",
        "       'bauswahl_arbeitsprobe', 'bauswahl_andere', 'bmagespr', 'bzv',\n",
        "       'bentwplan', 'bbeurt', 'bvargehalt', 'bsonderz_nv', 'bmabefr',\n",
        "       'bmabind_flexaz', 'bmabind_verg', 'bhomeoff', 'babsent_anz', 'msex',\n",
        "       'alter', 'mstib', 'mleitung', 'maz_voll_teil', 'mheim', 'maz_freizeit',\n",
        "       'mwb', 'mmagespr', 'mikt_nutz', 'mgesund_allg', 'mkind_anz_gr',\n",
        "       'mkindu3','meink_kateg', 'conscientiousness','extraversion','neuroticism','openness','agreeableness']]\n",
        "\n",
        "## As variable \"brache\" which contains the industry in which a person is working\n",
        "## is categorial generate dummy variables for each industry\n",
        "dfp =pd.get_dummies(dfp, columns=['branche'])\n",
        "\n",
        "## inspect how many observations are remaining:\n",
        "print(\"We have\", dfp.shape[0], \"observations and\", dfp.shape[1], \"variables.\")\n"
      ],
      "metadata": {
        "colab": {
          "base_uri": "https://localhost:8080/"
        },
        "id": "vDFztSyDhzcY",
        "outputId": "777ab5eb-cad6-497e-900a-fa11f65d4afb"
      },
      "execution_count": null,
      "outputs": [
        {
          "output_type": "stream",
          "name": "stdout",
          "text": [
            "We have 886 observations and 44 variables.\n"
          ]
        }
      ]
    },
    {
      "cell_type": "code",
      "source": [
        "##\n",
        "## Note: Use the \"cleaned\" DataFrame dfp for your prediction task!\n",
        "##\n",
        "\n"
      ],
      "metadata": {
        "id": "OeUbn73CoxMM"
      },
      "execution_count": null,
      "outputs": []
    }
  ]
}